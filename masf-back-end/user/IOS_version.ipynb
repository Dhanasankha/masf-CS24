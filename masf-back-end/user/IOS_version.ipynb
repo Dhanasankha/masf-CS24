{
 "cells": [
  {
   "cell_type": "code",
   "execution_count": null,
   "metadata": {},
   "outputs": [],
   "source": [
    "import pandas as pd\n",
    "import numpy as np\n",
    "from sklearn.model_selection import train_test_split\n",
    "from sklearn.preprocessing import LabelEncoder, StandardScaler"
   ]
  },
  {
   "cell_type": "code",
   "execution_count": null,
   "metadata": {},
   "outputs": [],
   "source": [
    "data = pd.read_csv('AppleStore.csv') "
   ]
  },
  {
   "cell_type": "code",
   "execution_count": null,
   "metadata": {},
   "outputs": [],
   "source": [
    "data.head() #first five rows of the table"
   ]
  },
  {
   "cell_type": "code",
   "execution_count": null,
   "metadata": {},
   "outputs": [],
   "source": [
    "print(data.columns)"
   ]
  },
  {
   "cell_type": "code",
   "execution_count": null,
   "metadata": {},
   "outputs": [],
   "source": [
    "columns_to_drop = ['Unnamed: 0','id', 'currency', 'rating_count_tot','rating_count_ver','user_rating_ver','ver','cont_rating', 'sup_devices.num','ipadSc_urls.num','vpp_lic']\n",
    "data.drop(columns=columns_to_drop, inplace=True)\n",
    "data.head()"
   ]
  },
  {
   "cell_type": "code",
   "execution_count": null,
   "metadata": {},
   "outputs": [],
   "source": [
    "# Rename columns in place >>>>>This code will already be exectued\n",
    "data.rename(columns={'price':'price_dollars'}, inplace=True)\n",
    "data.head()"
   ]
  },
  {
   "cell_type": "code",
   "execution_count": null,
   "metadata": {},
   "outputs": [],
   "source": [
    "available_categories = data['prime_genre'].unique()\n",
    "print(available_categories)"
   ]
  },
  {
   "cell_type": "code",
   "execution_count": null,
   "metadata": {},
   "outputs": [],
   "source": [
    "# encode categorical variables\n",
    "encoder = LabelEncoder()\n",
    "data['prime_genre'] = encoder.fit_transform(data['prime_genre'])\n",
    "print(data['prime_genre'].unique())"
   ]
  },
  {
   "cell_type": "code",
   "execution_count": null,
   "metadata": {},
   "outputs": [],
   "source": [
    "# select the relevant features and target variable\n",
    "X = data[['size_bytes','price_dollars','prime_genre','lang.num']]\n",
    "y = data['user_rating']"
   ]
  },
  {
   "cell_type": "code",
   "execution_count": null,
   "metadata": {},
   "outputs": [],
   "source": [
    "from sklearn.model_selection import train_test_split\n",
    "from sklearn.neighbors import KNeighborsRegressor\n",
    "from sklearn.metrics import r2_score, mean_absolute_error, mean_squared_error\n",
    "import numpy as np\n",
    "\n",
    "# select the relevant features and target variable\n",
    "X = data[['size_bytes', 'price_dollars','prime_genre', 'lang.num']]\n",
    "y = data['user_rating']\n",
    "\n",
    "# split data into training and testing sets\n",
    "X_train, X_test, y_train, y_test = train_test_split(X, y, test_size=0.2, random_state=42)\n",
    "\n",
    "# train the model on the training set\n",
    "model = KNeighborsRegressor(n_neighbors=100)\n",
    "model.fit(X_train, y_train)\n",
    "\n",
    "# predict the target variable for the test set\n",
    "y_pred = model.predict(X_test)\n",
    "\n",
    "# calculate r2-score, mean absolute error, and root mean squared error\n",
    "r2 = r2_score(y_test, y_pred)\n",
    "mae = mean_absolute_error(y_test, y_pred)\n",
    "rmse = np.sqrt(mean_squared_error(y_test, y_pred))\n",
    "\n",
    "print(f\"The r2-score of the model is {r2:.2f}\")\n",
    "print(f\"The mean absolute error of the model is {mae:.2f}\")\n",
    "print(f\"The root mean squared error of the model is {rmse:.2f}\")"
   ]
  },
  {
   "cell_type": "code",
   "execution_count": null,
   "metadata": {},
   "outputs": [],
   "source": [
    "import pandas as pd\n",
    "import warnings\n",
    "\n",
    "warnings.filterwarnings(\"ignore\") # to avoid the printing of a warning which does not affect the code\n",
    "\n",
    "# define the bins and labels\n",
    "bins = [0, 1, 2, 3, 4, 5] # the bins are based on the rating scale from 1 to 5\n",
    "labels = ['Low', 'Medium-Low', 'Medium', 'Medium-High', 'High']\n",
    "\n",
    "# get user inputs\n",
    "print(\"Available app genres are : \")\n",
    "for i in available_categories:\n",
    "    print(i)\n",
    "\n",
    "while True:\n",
    "  user_category = input('Enter the genre of the app : ')\n",
    "  if user_category in available_categories:\n",
    "     break\n",
    "  else :\n",
    "      print(f\"{user_category} is not a valid genre. Please enter a valid genre.\")\n",
    "\n",
    "while True:\n",
    "  try:\n",
    "    price = float(input('Enter the price of the app in dollars : '))\n",
    "    if price<0:\n",
    "      raise ValueError\n",
    "    break\n",
    "  except ValueError:\n",
    "    print(\"Price should be a positive number.Please enter a valid price\")\n",
    "\n",
    "while True:\n",
    "  try:\n",
    "    size = float(input('Enter the size of the app in bytes : '))\n",
    "    if size<0:\n",
    "      raise ValueError\n",
    "    break\n",
    "  except ValueError:\n",
    "        print(\"Size should be a positive number.Please enter a valid size\")\n",
    "\n",
    "while True:\n",
    "  try:\n",
    "    lang_num = float(input('Enter the number of supported languages : '))\n",
    "    if lang_num<0:\n",
    "      raise ValueError\n",
    "    break\n",
    "  except ValueError:\n",
    "        print(\"Language number should be a positive number.Please enter a valid number\")\n",
    "\n",
    "# encode user input category\n",
    "user_category = encoder.transform([user_category])[0]\n",
    "\n",
    "# predict the user rating\n",
    "rating = model.predict([[size,price,user_category,lang_num]])[0]\n",
    "\n",
    "# categorize the success rate\n",
    "success_category = pd.cut([rating], bins=bins, labels=labels)[0]\n",
    "\n",
    "# print the result\n",
    "print(f\"The predicted rating of the app will be around {rating}, which falls under the {success_category} success category.\")"
   ]
  }
 ],
 "metadata": {
  "kernelspec": {
   "display_name": "Python 3.10.10 64-bit",
   "language": "python",
   "name": "python3"
  },
  "language_info": {
   "name": "python",
   "version": "3.10.10"
  },
  "orig_nbformat": 4,
  "vscode": {
   "interpreter": {
    "hash": "aee8b7b246df8f9039afb4144a1f6fd8d2ca17a180786b69acc140d282b71a49"
   }
  }
 },
 "nbformat": 4,
 "nbformat_minor": 2
}
